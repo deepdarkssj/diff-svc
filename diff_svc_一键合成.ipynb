{
  "cells": [
    {
      "cell_type": "markdown",
      "metadata": {
        "id": "view-in-github",
        "colab_type": "text"
      },
      "source": [
        "<a href=\"https://colab.research.google.com/github/deepdarkssj/diff-svc/blob/main/diff_svc_%E4%B8%80%E9%94%AE%E5%90%88%E6%88%90.ipynb\" target=\"_parent\"><img src=\"https://colab.research.google.com/assets/colab-badge.svg\" alt=\"Open In Colab\"/></a>"
      ]
    },
    {
      "cell_type": "markdown",
      "metadata": {
        "id": "F-IpF6c5X0q_"
      },
      "source": [
        "# 写在前面\n",
        "\n",
        "本笔记本用于使用[diff-svc歌声转换模型](https://github.com/prophesier/diff-svc)，将任意歌声转换为[永雏塔菲](https://space.bilibili.com/1265680561)音色\n",
        "\n",
        "**你需要准备一段不含背景音乐的纯干声，不宜有过重的混响或明显和声，若你的音频经过类似去伴奏的处理，请尽量使用降噪、人声增强、去混响等方式保证音频质量。音频格式为wav，采样率不得低于16KHZ**\n",
        "\n",
        "\n",
        "**⬇ 使用本模型即代表您理解并同意diff-svc的注意事项 ⬇**\n",
        "\n",
        "*本项目是基于学术交流目的建立，并非为生产环境准备，不对由此项目模型产生的任何声音的版权问题负责。\n",
        "如将本仓库代码二次分发，或将由此项目产出的任何结果公开发表(包括但不限于视频网站投稿)，请注明原作者及代码来源(此仓库)。\n",
        "如果将此项目用于任何其他企划，请提前联系并告知本仓库作者,十分感谢。*\n",
        "\n",
        "[永雏塔菲歌声转换模型(AI塔菲2.0)介绍](https://www.bilibili.com/video/BV1144y1Q7w4/)\n",
        "\n",
        "[本笔记本作者@极黑的绅士君](https://space.bilibili.com/605886)\n",
        "\n",
        "[diff-svc作者@14-26AA](https://space.bilibili.com/485443)\n",
        "\n",
        "[永雏塔菲QQ频道](https://pd.qq.com/s/9gcb5eo0a)\n",
        "\n",
        "**请按照本笔记本中的步骤自上而下依次执行，若不慎对代码或运行时进行了不可挽回的修改导致报错，请点击上方 [代码执行程序]-[断开连接并删除运行时] 从而初始化环境并重新开始。在使用中发现任何问题欢迎点击上方频道链接加入塔频讨论**\n",
        "\n",
        "**现在，试着将鼠标移到下方[配置环境]中的第一个代码块里，点击左上角的播放(其实是执行)按钮吧！**\n"
      ]
    },
    {
      "cell_type": "markdown",
      "metadata": {
        "id": "CMIJduVhX2Ge"
      },
      "source": [
        "# 配置环境"
      ]
    },
    {
      "cell_type": "code",
      "execution_count": null,
      "metadata": {
        "id": "BfuRLaqys47I"
      },
      "outputs": [],
      "source": [
        "#本单元格约需执行2分钟\n",
        "%cd /content\n",
        "!apt install libasound2-dev portaudio19-dev libportaudio2 libportaudiocpp0 ffmpeg\n",
        "!pip install --upgrade pip\n",
        "!git clone -b main https://github.com/deepdarkssj/diff-svc\n",
        "%cd diff-svc\n",
        "!mkdir ./checkpoints/hubert\n",
        "!mkdir raw\n",
        "!mkdir results\n",
        "!pip install -r requirements.txt\n",
        "!cp -f upsampling.py /usr/local/lib/python3.8/dist-packages/torch/nn/modules/upsampling.py"
      ]
    },
    {
      "cell_type": "code",
      "execution_count": 2,
      "metadata": {
        "id": "RMUmOmIiX873"
      },
      "outputs": [],
      "source": [
        "#本单元格约需执行5秒\n",
        "import io\n",
        "import time\n",
        "from pathlib import Path\n",
        "\n",
        "import librosa\n",
        "import numpy as np\n",
        "import soundfile\n",
        "\n",
        "from infer_tools import infer_tool\n",
        "from infer_tools import slicer\n",
        "from infer_tools.infer_tool import Svc\n",
        "from utils.hparams import hparams\n",
        "chunks_dict = infer_tool.read_temp(\"./infer_tools/chunks_temp.json\")"
      ]
    },
    {
      "cell_type": "markdown",
      "metadata": {
        "id": "EiHW39jFYhou"
      },
      "source": [
        "## 从Google Drive下载模型"
      ]
    },
    {
      "cell_type": "code",
      "execution_count": null,
      "metadata": {
        "id": "sZ2mXdCa10di"
      },
      "outputs": [],
      "source": [
        "#本单元格约需执行30秒\n",
        "!pip install --upgrade --no-cache-dir gdown\n",
        "!gdown --id '1Ju4wIViS7w7HSkeV4qW84zSXYYWtuuot' --output /content/diff-svc/checkpoints/0102_xiaoma_pe/model_ckpt_steps_60000.ckpt\n",
        "!gdown --id '1kZM9hx5c--nqIkuIVSSXKnRUCkL0FjjR' --output /content/diff-svc/checkpoints/hubert/hubert_soft.pt\n",
        "!gdown --id '1Q5oS7L6vQ1w-g059snFUu8TWX-0M6-cm' --output /content/diff-svc/checkpoints/0109_hifigan_bigpopcs_hop128/model_ckpt_steps_1512000.ckpt\n",
        "!gdown --id '1zqdZMKRXJt72HzR9Yw-dK2-OfW0f8hPx' --output /content/diff-svc/checkpoints/0109_hifigan_bigpopcs_hop128/model_ckpt_steps_1512000.pth\n",
        "!gdown --id '1yqEekFgO6vZ12XZgwdkKrSeAwsVRub66' --output /content/diff-svc/checkpoints/taffy/model_ckpt_steps_210000.ckpt\n",
        "\n"
      ]
    },
    {
      "cell_type": "markdown",
      "metadata": {
        "id": "5C5qnjljYoPX"
      },
      "source": [
        "## 上传源音频"
      ]
    },
    {
      "cell_type": "markdown",
      "metadata": {
        "id": "rEXBSUEwtu6U"
      },
      "source": [
        "请点击左侧文件夹按钮打开运行时内的文件目录，将你准备的人声传入至/diff-svc/raw文件夹，直接拖入或点击上传按钮上传后拖入raw中均可\n",
        "\n",
        "**注意：运行时内的文件在关闭网页后会被删除！**\n",
        "\n",
        "因此你也许需要使用Google Drive来存储一些数据，下面的单元格会将你的Google Drive与左侧文件目录关联"
      ]
    },
    {
      "cell_type": "code",
      "execution_count": null,
      "metadata": {
        "id": "YNtmkYruYVqL"
      },
      "outputs": [],
      "source": [
        "#@title （可选）关联Google Drive\n",
        "from google.colab import drive\n",
        "drive.mount('/content/drive')"
      ]
    },
    {
      "cell_type": "markdown",
      "metadata": {
        "id": "oy-GDKKsZl-j"
      },
      "source": [
        "# 声音转换\n",
        "\n",
        "终于到了最关键的一步！\n",
        "\n",
        "**填写你所需的音高调整并填入刚才上传的文件名，按下执行按钮就好啦！由于音频时长不同，合成所需的时长也不同，耐心等待吧！**\n",
        "\n",
        "**结果会自动输出至results文件夹。**"
      ]
    },
    {
      "cell_type": "code",
      "execution_count": null,
      "metadata": {
        "id": "MXoalx7B2NEv"
      },
      "outputs": [],
      "source": [
        "import infer\n",
        "\n",
        "#@markdown **音高调整（升降n个半音）**\n",
        "vc_transform = \"0\" #@param {type:\"string\"}\n",
        "#@markdown 人声文件名（不带.wav）\n",
        "clean_name = \"vocals\" #@param {type:\"string\"}\n",
        "\n",
        "project_name = \"taffy\"\n",
        "model_path = f'./checkpoints/{project_name}/model_ckpt_steps_210000.ckpt'\n",
        "config_path = f'./checkpoints/{project_name}/config.yaml'\n",
        "file_names = [clean_name]\n",
        "trans = [int(vc_transform)]\n",
        "accelerate = 20\n",
        "hubert_gpu = True\n",
        "format='flac'\n",
        "step = int(model_path.split(\"_\")[-1].split(\".\")[0])\n",
        "infer_tool.mkdir([\"./raw\", \"./results\"])\n",
        "infer_tool.fill_a_to_b(trans, file_names)\n",
        "model = Svc(project_name, config_path, hubert_gpu, model_path)\n",
        "for f_name, tran in zip(file_names, trans):\n",
        "    if \".\" not in f_name:\n",
        "        f_name += \".wav\"\n",
        "    source_path = infer.run_clip(model, key=tran, acc=accelerate, use_crepe=True, thre=0.05, use_pe=True, use_gt_mel=False,\n",
        "             add_noise_step=500, f_name=f_name, project_name=project_name, format=format, step=step)\n"
      ]
    },
    {
      "cell_type": "markdown",
      "metadata": {
        "id": "d8A6PdNlRwQM"
      },
      "source": [
        "**恭喜大功告成！你可以查看results文件夹，右键下载**\n",
        "\n",
        "**执行下面的单元格可以让你在线预览输出的结果(还是要缓冲的，只是不用下载到本地罢了)**"
      ]
    },
    {
      "cell_type": "code",
      "execution_count": null,
      "metadata": {
        "id": "vjkgBV7j2cVJ"
      },
      "outputs": [],
      "source": [
        "import IPython.display as ipd\n",
        "import torchaudio\n",
        "audio,sr = torchaudio.load(source_path)\n",
        "ipd.display(ipd.Audio(audio, rate=sr))"
      ]
    }
  ],
  "metadata": {
    "accelerator": "GPU",
    "colab": {
      "provenance": [],
      "include_colab_link": true
    },
    "gpuClass": "standard",
    "interpreter": {
      "hash": "742fb0cf312e06021cb7ef6febc33961079fd3903e709e6dbd223a75c181bd01"
    },
    "kernelspec": {
      "display_name": "Python 3.8.13 ('torch')",
      "language": "python",
      "name": "python3"
    },
    "language_info": {
      "codemirror_mode": {
        "name": "ipython",
        "version": 3
      },
      "file_extension": ".py",
      "mimetype": "text/x-python",
      "name": "python",
      "nbconvert_exporter": "python",
      "pygments_lexer": "ipython3",
      "version": "3.8.13"
    }
  },
  "nbformat": 4,
  "nbformat_minor": 0
}